{
 "cells": [
  {
   "cell_type": "code",
   "execution_count": null,
   "metadata": {},
   "outputs": [],
   "source": [
    "import os\n",
    "if os.environ['HOME'] != '/root':\n",
    "    from modules.import_packages import *\n",
    "\n",
    "from pyspark.sql.functions import to_timestamp\n",
    "from pyspark.sql.types import *\n",
    "from random import sample, seed\n",
    "\n",
    "import datetime as dt\n",
    "import pyspark.sql.functions as F\n",
    "from pyspark.sql import SparkSession"
   ]
  },
  {
   "cell_type": "code",
   "execution_count": null,
   "metadata": {},
   "outputs": [],
   "source": [
    "# Change Thrift IP to hadoop master node\n",
    "spark = SparkSession.builder \\\n",
    "  .appName(\"Java Spark Hive Example\") \\\n",
    "  .config(\"hive.metastore.uris\", 'thrift://203.159.10.50:9083') \\\n",
    "  .config(\"spark.sql.warehouse.dir\", '/apps/hive/warehouse') \\\n",
    "  .enableHiveSupport() \\\n",
    "  .getOrCreate();"
   ]
  },
  {
   "cell_type": "code",
   "execution_count": null,
   "metadata": {},
   "outputs": [],
   "source": [
    "# Display all tables in Hive. \n",
    "spark.sql(\"show tables\").show()"
   ]
  },
  {
   "cell_type": "code",
   "execution_count": null,
   "metadata": {
    "scrolled": true
   },
   "outputs": [],
   "source": [
    "# Change 'calls' to table of CDR data in Hive\n",
    "spark.sql(\"select * from calls limit 10\").show()  "
   ]
  }
 ],
 "metadata": {
  "kernelspec": {
   "display_name": "Python 3",
   "language": "python",
   "name": "python3"
  },
  "language_info": {
   "codemirror_mode": {
    "name": "ipython",
    "version": 3
   },
   "file_extension": ".py",
   "mimetype": "text/x-python",
   "name": "python",
   "nbconvert_exporter": "python",
   "pygments_lexer": "ipython3",
   "version": "3.7.9"
  }
 },
 "nbformat": 4,
 "nbformat_minor": 4
}