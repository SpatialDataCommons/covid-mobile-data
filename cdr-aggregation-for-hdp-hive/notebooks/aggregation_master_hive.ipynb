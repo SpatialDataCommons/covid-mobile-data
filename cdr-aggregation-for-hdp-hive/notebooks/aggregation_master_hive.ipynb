{
 "cells": [
  {
   "cell_type": "markdown",
   "metadata": {},
   "source": [
    "# Production of indicators for the COVID19 Mobility Task Force (Modified for running on HDP/Hive environment)\n",
    "\n",
    "This notebook is an extension of cdr-aggregation under [worldbank/covid-mobile-data](https://github.com/worldbank/covid-mobile-data/tree/master/cdr-aggregation). It specifically customized to allow computing the indicators on the data resisted on Hive table under Hortonwork Data Platform (HDP).\n",
    "\n",
    "   \n",
    "Find more information about the `config_file_hive.py` settings.\n",
    "    \n"
   ]
  },
  {
   "cell_type": "markdown",
   "metadata": {},
   "source": [
    "# Import code"
   ]
  },
  {
   "cell_type": "code",
   "execution_count": null,
   "metadata": {},
   "outputs": [],
   "source": [
    "%load_ext autoreload\n",
    "%autoreload 2"
   ]
  },
  {
   "cell_type": "code",
   "execution_count": null,
   "metadata": {},
   "outputs": [],
   "source": [
    "from modules.DataSource import *"
   ]
  },
  {
   "cell_type": "code",
   "execution_count": null,
   "metadata": {},
   "outputs": [],
   "source": [
    "config_file = '../config_file_hive.py'"
   ]
  },
  {
   "cell_type": "code",
   "execution_count": null,
   "metadata": {},
   "outputs": [],
   "source": [
    "exec(open(config_file).read())"
   ]
  },
  {
   "cell_type": "code",
   "execution_count": null,
   "metadata": {},
   "outputs": [],
   "source": [
    "ds = DataSource(datasource_configs)\n",
    "ds.show_config()"
   ]
  },
  {
   "cell_type": "code",
   "execution_count": null,
   "metadata": {},
   "outputs": [],
   "source": [
    "ds.spark.sql(\"show tables\").show()"
   ]
  },
  {
   "cell_type": "code",
   "execution_count": null,
   "metadata": {},
   "outputs": [],
   "source": [
    "from modules.setup import *"
   ]
  },
  {
   "cell_type": "markdown",
   "metadata": {},
   "source": [
    "# Import data"
   ]
  },
  {
   "cell_type": "markdown",
   "metadata": {},
   "source": [
    "## Load CDR data"
   ]
  },
  {
   "cell_type": "markdown",
   "metadata": {},
   "source": [
    "### Process/standardize raw data, save as parquet, and then load it"
   ]
  },
  {
   "cell_type": "code",
   "execution_count": null,
   "metadata": {},
   "outputs": [],
   "source": [
    "# ds.standardize_csv_files(show=True)\n",
    "# ds.save_as_parquet()"
   ]
  },
  {
   "cell_type": "code",
   "execution_count": null,
   "metadata": {},
   "outputs": [],
   "source": [
    "#ds.load_standardized_parquet_file()"
   ]
  },
  {
   "cell_type": "code",
   "execution_count": null,
   "metadata": {},
   "outputs": [],
   "source": [
    "# test is for testing connection to spark service under HDP/hive. please change 'calls_100k' to CDR Data table.\n",
    "ds.spark.sql(\"select * from calls_100k limit 10\").show()"
   ]
  },
  {
   "cell_type": "markdown",
   "metadata": {},
   "source": [
    "### Specify and load hive table"
   ]
  },
  {
   "cell_type": "code",
   "execution_count": null,
   "metadata": {},
   "outputs": [],
   "source": [
    "# # Specify and load hive data\n",
    "ds.parquet_df = ds.spark.sql(\"\"\"SELECT {} AS msisdn, \n",
    "                                        {} AS call_datetime, \n",
    "                                        {} AS location_id FROM {}\"\"\".format(ds.hive_vars['msisdn'],\n",
    "                                                                            ds.hive_vars['call_datetime'],\n",
    "                                                                            ds.hive_vars['location_id'],\n",
    "                                                                            ds.hive_vars['calls']))"
   ]
  },
  {
   "cell_type": "code",
   "execution_count": null,
   "metadata": {},
   "outputs": [],
   "source": [
    "##  Saurav\n",
    "ds.parquet_df\n",
    "#ds.save_as_parquet()"
   ]
  },
  {
   "cell_type": "markdown",
   "metadata": {},
   "source": [
    "## Load geo data"
   ]
  },
  {
   "cell_type": "code",
   "execution_count": null,
   "metadata": {},
   "outputs": [],
   "source": [
    "ds.load_geo_csvs(show=False)"
   ]
  },
  {
   "cell_type": "code",
   "execution_count": null,
   "metadata": {
    "scrolled": true
   },
   "outputs": [],
   "source": [
    "## Use this in case you want to cluster the towers and create a distance matrix\n",
    "\n",
    "ds.create_gpds()\n",
    "from modules.tower_clustering import *\n",
    "clusterer = tower_clusterer(ds, 'admin2', 'ID_2')\n",
    "ds.admin2_tower_map, ds.distances = clusterer.cluster_towers()\n"
   ]
  },
  {
   "cell_type": "code",
   "execution_count": null,
   "metadata": {},
   "outputs": [],
   "source": [
    "ds.admin2_tower_map\n",
    "ds.distances"
   ]
  },
  {
   "cell_type": "code",
   "execution_count": null,
   "metadata": {},
   "outputs": [],
   "source": [
    "#ds.create_gpds()\n",
    "#from modules.tower_clustering import *\n",
    "clusterer = tower_clusterer(ds, 'admin3', 'ID_3')\n",
    "ds.admin3_tower_map, ds.distances  = clusterer.cluster_towers()"
   ]
  },
  {
   "cell_type": "code",
   "execution_count": null,
   "metadata": {},
   "outputs": [],
   "source": [
    "## Use this in case you want to create a voronoi tesselation\n",
    "\n",
    "from modules.voronoi import *\n",
    "voronoi = voronoi_maker(ds, 'admin3', 'ID_3')\n",
    "ds.voronoi = voronoi.make_voronoi()"
   ]
  },
  {
   "cell_type": "code",
   "execution_count": null,
   "metadata": {},
   "outputs": [],
   "source": [
    "#ds.getattr('admin2_tower_map')\n",
    "\n",
    "getattr(ds, 'admin2_tower_map')\n",
    "getattr(ds, 'admin3_tower_map')\n",
    "print(getattr(ds, 'voronoi'))\n",
    "for att in dir(ds):\n",
    "    print(att)"
   ]
  },
  {
   "cell_type": "code",
   "execution_count": null,
   "metadata": {},
   "outputs": [],
   "source": []
  },
  {
   "cell_type": "markdown",
   "metadata": {},
   "source": [
    "# Run aggregations"
   ]
  },
  {
   "cell_type": "markdown",
   "metadata": {},
   "source": [
    "## Flowminder indicators for admin2"
   ]
  },
  {
   "cell_type": "code",
   "execution_count": null,
   "metadata": {},
   "outputs": [],
   "source": [
    "agg_flowminder_admin2 = flowminder_aggregator(result_stub = '/admin2/flowminder',\n",
    "                            datasource = ds,\n",
    "                            regions = 'admin2_tower_map')\n",
    "\n"
   ]
  },
  {
   "cell_type": "code",
   "execution_count": null,
   "metadata": {},
   "outputs": [],
   "source": [
    "agg_flowminder_admin2.attempt_aggregation()"
   ]
  },
  {
   "cell_type": "markdown",
   "metadata": {},
   "source": [
    "## Flowminder indicators for admin3"
   ]
  },
  {
   "cell_type": "code",
   "execution_count": null,
   "metadata": {},
   "outputs": [],
   "source": [
    "agg_flowminder_admin3 = flowminder_aggregator(result_stub = '/admin3/flowminder',\n",
    "                            datasource = ds,\n",
    "                            regions = 'admin3_tower_map')"
   ]
  },
  {
   "cell_type": "code",
   "execution_count": null,
   "metadata": {},
   "outputs": [],
   "source": [
    "\n",
    "\n",
    "agg_flowminder_admin3.attempt_aggregation()"
   ]
  },
  {
   "cell_type": "markdown",
   "metadata": {},
   "source": [
    "## Priority indicators for admin2"
   ]
  },
  {
   "cell_type": "code",
   "execution_count": null,
   "metadata": {},
   "outputs": [],
   "source": [
    "agg_priority_admin2 = priority_aggregator(result_stub = '/admin2/priority',\n",
    "                               datasource = ds,\n",
    "                               regions = 'admin2_tower_map')\n",
    "\n",
    "agg_priority_admin2.attempt_aggregation(indicators_to_produce = {'unique_subscribers_per_day' : ['unique_subscribers', 'day'],\n",
    "                                                                 'percent_of_all_subscribers_active_per_day' : ['percent_of_all_subscribers_active', 'day'],\n",
    "                                                                 'origin_destination_connection_matrix_per_day' : ['origin_destination_connection_matrix', 'day'],\n",
    "                                                                 'mean_distance_per_day' : ['mean_distance', 'day'],\n",
    "                                                                 'mean_distance_per_week' : ['mean_distance', 'week'],\n",
    "                                                                 'origin_destination_matrix_time_per_day' : ['origin_destination_matrix_time', 'day'],\n",
    "                                                                 'home_vs_day_location_per_day' : ['home_vs_day_location_per_day', ['day','week']],\n",
    "                                                                 'home_vs_day_location_per_day' : ['home_vs_day_location_per_day', ['day','month']]})"
   ]
  },
  {
   "cell_type": "markdown",
   "metadata": {},
   "source": [
    "## Priority indicators for admin3"
   ]
  },
  {
   "cell_type": "code",
   "execution_count": null,
   "metadata": {},
   "outputs": [],
   "source": [
    "agg_priority_admin3 = priority_aggregator(result_stub = '/admin3/priority',\n",
    "                            datasource = ds,\n",
    "                            regions = 'admin3_tower_map')\n",
    "\n",
    "agg_priority_admin3.attempt_aggregation(indicators_to_produce = {'transactions_per_hour' : ['transactions', 'hour'],\n",
    "                                                                 'transactions_per_hour' : ['transactions', 'hour']})"
   ]
  },
  {
   "cell_type": "markdown",
   "metadata": {},
   "source": [
    "## Scaled priority indicators for admin2"
   ]
  },
  {
   "cell_type": "code",
   "execution_count": null,
   "metadata": {},
   "outputs": [],
   "source": [
    "agg_scaled_admin2 = scaled_aggregator(result_stub = '/admin2/scaled',\n",
    "                               datasource = ds,\n",
    "                               regions = 'admin2_tower_map')\n",
    "\n",
    "agg_scaled_admin2.attempt_aggregation()"
   ]
  },
  {
   "cell_type": "markdown",
   "metadata": {},
   "source": [
    "## Priority indicators for tower-cluster"
   ]
  },
  {
   "cell_type": "code",
   "execution_count": null,
   "metadata": {},
   "outputs": [],
   "source": [
    "agg_priority_tower = priority_aggregator(result_stub = '/voronoi/priority',\n",
    "                               datasource = ds,\n",
    "                               regions = 'voronoi')\n",
    "                               #regions = 'voronoi_tower_map')\n",
    "\n",
    "agg_priority_tower.attempt_aggregation(indicators_to_produce = {'unique_subscribers_per_hour' : ['unique_subscribers', 'hour'],\n",
    "                                                        'mean_distance_per_day' : ['mean_distance', 'day'],\n",
    "                                                        'mean_distance_per_week' : ['mean_distance', 'week']})"
   ]
  },
  {
   "cell_type": "code",
   "execution_count": null,
   "metadata": {},
   "outputs": [],
   "source": []
  },
  {
   "cell_type": "code",
   "execution_count": null,
   "metadata": {},
   "outputs": [],
   "source": [
    "agg_priority_tower_harare = priority_aggregator(result_stub = '/voronoi/priority/harare',\n",
    "                               datasource = ds,\n",
    "                               regions = 'voronoi_tower_map_harare')\n",
    "\n",
    "agg_priority_tower_harare.attempt_aggregation(indicators_to_produce = {'origin_destination_connection_matrix_per_day' : ['origin_destination_connection_matrix', 'day']})"
   ]
  },
  {
   "cell_type": "code",
   "execution_count": null,
   "metadata": {},
   "outputs": [],
   "source": [
    "agg_priority_tower_bulawayo = priority_aggregator(result_stub = '/voronoi/priority/bulawayo',\n",
    "                               datasource = ds,\n",
    "                               regions = 'voronoi_tower_map_bulawayo')\n",
    "\n",
    "agg_priority_tower_bulawayo.attempt_aggregation(indicators_to_produce = {'origin_destination_connection_matrix_per_day' : ['origin_destination_connection_matrix', 'day']})"
   ]
  },
  {
   "cell_type": "markdown",
   "metadata": {},
   "source": [
    "# Produce script"
   ]
  },
  {
   "cell_type": "code",
   "execution_count": null,
   "metadata": {},
   "outputs": [],
   "source": [
    "!jupyter nbconvert --to script *.ipynb"
   ]
  },
  {
   "cell_type": "code",
   "execution_count": null,
   "metadata": {},
   "outputs": [],
   "source": [
    "test = pd.DataFrame([[np.nan,1, 2],[0,1,2]])"
   ]
  },
  {
   "cell_type": "code",
   "execution_count": null,
   "metadata": {},
   "outputs": [],
   "source": [
    "test = ds.spark.createDataFrame([[None,1, 1,2],[2,2,2,2]])"
   ]
  },
  {
   "cell_type": "code",
   "execution_count": null,
   "metadata": {},
   "outputs": [],
   "source": [
    "test.toPandas()"
   ]
  },
  {
   "cell_type": "code",
   "execution_count": null,
   "metadata": {},
   "outputs": [],
   "source": [
    "test.groupby('_4').sum().toPandas()"
   ]
  },
  {
   "cell_type": "code",
   "execution_count": null,
   "metadata": {},
   "outputs": [],
   "source": [
    "test.withColumn('f', F.col('_1') + F.col('_2')).toPandas()"
   ]
  },
  {
   "cell_type": "code",
   "execution_count": null,
   "metadata": {},
   "outputs": [],
   "source": []
  }
 ],
 "metadata": {
  "kernelspec": {
   "display_name": "Python 3",
   "language": "python",
   "name": "python3"
  },
  "language_info": {
   "codemirror_mode": {
    "name": "ipython",
    "version": 3
   },
   "file_extension": ".py",
   "mimetype": "text/x-python",
   "name": "python",
   "nbconvert_exporter": "python",
   "pygments_lexer": "ipython3",
   "version": "3.7.9"
  },
  "toc-autonumbering": true
 },
 "nbformat": 4,
 "nbformat_minor": 4
}